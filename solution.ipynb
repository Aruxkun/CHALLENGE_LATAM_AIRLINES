{
 "cells": [
  {
   "cell_type": "markdown",
   "metadata": {},
   "source": [
    "# CHALLENGE LATAM AIRLINES"
   ]
  },
  {
   "cell_type": "code",
   "execution_count": 1,
   "metadata": {},
   "outputs": [],
   "source": [
    "import numpy as np\n",
    "import pandas as pd\n",
    "import matplotlib.pyplot as plt"
   ]
  },
  {
   "cell_type": "code",
   "execution_count": 2,
   "metadata": {},
   "outputs": [
    {
     "name": "stdout",
     "output_type": "stream",
     "text": [
      "(68206, 18)\n"
     ]
    },
    {
     "name": "stderr",
     "output_type": "stream",
     "text": [
      "D:\\Program Files\\Anaconda3\\lib\\site-packages\\IPython\\core\\interactiveshell.py:3057: DtypeWarning: Columns (1,6) have mixed types. Specify dtype option on import or set low_memory=False.\n",
      "  interactivity=interactivity, compiler=compiler, result=result)\n"
     ]
    }
   ],
   "source": [
    "DF = pd.read_csv('dataset_SCL.csv', parse_dates = ['Fecha-I','Fecha-O'])\n",
    "print(DF.shape)"
   ]
  },
  {
   "cell_type": "code",
   "execution_count": 3,
   "metadata": {},
   "outputs": [
    {
     "data": {
      "text/html": [
       "<div>\n",
       "<style scoped>\n",
       "    .dataframe tbody tr th:only-of-type {\n",
       "        vertical-align: middle;\n",
       "    }\n",
       "\n",
       "    .dataframe tbody tr th {\n",
       "        vertical-align: top;\n",
       "    }\n",
       "\n",
       "    .dataframe thead th {\n",
       "        text-align: right;\n",
       "    }\n",
       "</style>\n",
       "<table border=\"1\" class=\"dataframe\">\n",
       "  <thead>\n",
       "    <tr style=\"text-align: right;\">\n",
       "      <th></th>\n",
       "      <th>Fecha-I</th>\n",
       "      <th>Vlo-I</th>\n",
       "      <th>Ori-I</th>\n",
       "      <th>Des-I</th>\n",
       "      <th>Emp-I</th>\n",
       "      <th>Fecha-O</th>\n",
       "      <th>Vlo-O</th>\n",
       "      <th>Ori-O</th>\n",
       "      <th>Des-O</th>\n",
       "      <th>Emp-O</th>\n",
       "      <th>DIA</th>\n",
       "      <th>MES</th>\n",
       "      <th>AÑO</th>\n",
       "      <th>DIANOM</th>\n",
       "      <th>TIPOVUELO</th>\n",
       "      <th>OPERA</th>\n",
       "      <th>SIGLAORI</th>\n",
       "      <th>SIGLADES</th>\n",
       "    </tr>\n",
       "  </thead>\n",
       "  <tbody>\n",
       "    <tr>\n",
       "      <th>0</th>\n",
       "      <td>2017-01-01 23:30:00</td>\n",
       "      <td>226</td>\n",
       "      <td>SCEL</td>\n",
       "      <td>KMIA</td>\n",
       "      <td>AAL</td>\n",
       "      <td>2017-01-01 23:33:00</td>\n",
       "      <td>226</td>\n",
       "      <td>SCEL</td>\n",
       "      <td>KMIA</td>\n",
       "      <td>AAL</td>\n",
       "      <td>1</td>\n",
       "      <td>1</td>\n",
       "      <td>2017</td>\n",
       "      <td>Domingo</td>\n",
       "      <td>I</td>\n",
       "      <td>American Airlines</td>\n",
       "      <td>Santiago</td>\n",
       "      <td>Miami</td>\n",
       "    </tr>\n",
       "    <tr>\n",
       "      <th>1</th>\n",
       "      <td>2017-01-02 23:30:00</td>\n",
       "      <td>226</td>\n",
       "      <td>SCEL</td>\n",
       "      <td>KMIA</td>\n",
       "      <td>AAL</td>\n",
       "      <td>2017-01-02 23:39:00</td>\n",
       "      <td>226</td>\n",
       "      <td>SCEL</td>\n",
       "      <td>KMIA</td>\n",
       "      <td>AAL</td>\n",
       "      <td>2</td>\n",
       "      <td>1</td>\n",
       "      <td>2017</td>\n",
       "      <td>Lunes</td>\n",
       "      <td>I</td>\n",
       "      <td>American Airlines</td>\n",
       "      <td>Santiago</td>\n",
       "      <td>Miami</td>\n",
       "    </tr>\n",
       "    <tr>\n",
       "      <th>2</th>\n",
       "      <td>2017-01-03 23:30:00</td>\n",
       "      <td>226</td>\n",
       "      <td>SCEL</td>\n",
       "      <td>KMIA</td>\n",
       "      <td>AAL</td>\n",
       "      <td>2017-01-03 23:39:00</td>\n",
       "      <td>226</td>\n",
       "      <td>SCEL</td>\n",
       "      <td>KMIA</td>\n",
       "      <td>AAL</td>\n",
       "      <td>3</td>\n",
       "      <td>1</td>\n",
       "      <td>2017</td>\n",
       "      <td>Martes</td>\n",
       "      <td>I</td>\n",
       "      <td>American Airlines</td>\n",
       "      <td>Santiago</td>\n",
       "      <td>Miami</td>\n",
       "    </tr>\n",
       "    <tr>\n",
       "      <th>3</th>\n",
       "      <td>2017-01-04 23:30:00</td>\n",
       "      <td>226</td>\n",
       "      <td>SCEL</td>\n",
       "      <td>KMIA</td>\n",
       "      <td>AAL</td>\n",
       "      <td>2017-01-04 23:33:00</td>\n",
       "      <td>226</td>\n",
       "      <td>SCEL</td>\n",
       "      <td>KMIA</td>\n",
       "      <td>AAL</td>\n",
       "      <td>4</td>\n",
       "      <td>1</td>\n",
       "      <td>2017</td>\n",
       "      <td>Miercoles</td>\n",
       "      <td>I</td>\n",
       "      <td>American Airlines</td>\n",
       "      <td>Santiago</td>\n",
       "      <td>Miami</td>\n",
       "    </tr>\n",
       "    <tr>\n",
       "      <th>4</th>\n",
       "      <td>2017-01-05 23:30:00</td>\n",
       "      <td>226</td>\n",
       "      <td>SCEL</td>\n",
       "      <td>KMIA</td>\n",
       "      <td>AAL</td>\n",
       "      <td>2017-01-05 23:28:00</td>\n",
       "      <td>226</td>\n",
       "      <td>SCEL</td>\n",
       "      <td>KMIA</td>\n",
       "      <td>AAL</td>\n",
       "      <td>5</td>\n",
       "      <td>1</td>\n",
       "      <td>2017</td>\n",
       "      <td>Jueves</td>\n",
       "      <td>I</td>\n",
       "      <td>American Airlines</td>\n",
       "      <td>Santiago</td>\n",
       "      <td>Miami</td>\n",
       "    </tr>\n",
       "  </tbody>\n",
       "</table>\n",
       "</div>"
      ],
      "text/plain": [
       "              Fecha-I Vlo-I Ori-I Des-I Emp-I             Fecha-O Vlo-O Ori-O  \\\n",
       "0 2017-01-01 23:30:00   226  SCEL  KMIA   AAL 2017-01-01 23:33:00   226  SCEL   \n",
       "1 2017-01-02 23:30:00   226  SCEL  KMIA   AAL 2017-01-02 23:39:00   226  SCEL   \n",
       "2 2017-01-03 23:30:00   226  SCEL  KMIA   AAL 2017-01-03 23:39:00   226  SCEL   \n",
       "3 2017-01-04 23:30:00   226  SCEL  KMIA   AAL 2017-01-04 23:33:00   226  SCEL   \n",
       "4 2017-01-05 23:30:00   226  SCEL  KMIA   AAL 2017-01-05 23:28:00   226  SCEL   \n",
       "\n",
       "  Des-O Emp-O  DIA  MES   AÑO     DIANOM TIPOVUELO              OPERA  \\\n",
       "0  KMIA   AAL    1    1  2017    Domingo         I  American Airlines   \n",
       "1  KMIA   AAL    2    1  2017      Lunes         I  American Airlines   \n",
       "2  KMIA   AAL    3    1  2017     Martes         I  American Airlines   \n",
       "3  KMIA   AAL    4    1  2017  Miercoles         I  American Airlines   \n",
       "4  KMIA   AAL    5    1  2017     Jueves         I  American Airlines   \n",
       "\n",
       "   SIGLAORI SIGLADES  \n",
       "0  Santiago    Miami  \n",
       "1  Santiago    Miami  \n",
       "2  Santiago    Miami  \n",
       "3  Santiago    Miami  \n",
       "4  Santiago    Miami  "
      ]
     },
     "execution_count": 3,
     "metadata": {},
     "output_type": "execute_result"
    }
   ],
   "source": [
    "DF.head()"
   ]
  },
  {
   "cell_type": "markdown",
   "metadata": {},
   "source": [
    "### ANALISIS EXPLORATORIO DE DATOS Y OBSERVACIONES/CONCLUSIONES (PREGUNTA 1)"
   ]
  },
  {
   "cell_type": "code",
   "execution_count": 4,
   "metadata": {},
   "outputs": [
    {
     "name": "stdout",
     "output_type": "stream",
     "text": [
      "[2017]\n",
      "[2017 2018]\n"
     ]
    }
   ],
   "source": [
    "print(DF['Fecha-I'].dt.year.unique())\n",
    "print(DF['Fecha-O'].dt.year.unique())"
   ]
  },
  {
   "cell_type": "code",
   "execution_count": 5,
   "metadata": {},
   "outputs": [
    {
     "data": {
      "text/plain": [
       "2017    68204\n",
       "2018        2\n",
       "Name: Fecha-O, dtype: int64"
      ]
     },
     "execution_count": 5,
     "metadata": {},
     "output_type": "execute_result"
    }
   ],
   "source": [
    "DF['Fecha-O'].dt.year.value_counts()"
   ]
  },
  {
   "cell_type": "code",
   "execution_count": 6,
   "metadata": {},
   "outputs": [
    {
     "data": {
      "text/plain": [
       "<matplotlib.legend.Legend at 0x1ef809683c8>"
      ]
     },
     "execution_count": 6,
     "metadata": {},
     "output_type": "execute_result"
    },
    {
     "data": {
      "image/png": "[encoded data removed]",
      "text/plain": [
       "<Figure size 1008x576 with 1 Axes>"
      ]
     },
     "metadata": {
      "needs_background": "light"
     },
     "output_type": "display_data"
    }
   ],
   "source": [
    "#CANTIDAD DE VUELOS POR MES\n",
    "\n",
    "PROMEDIO = DF.MES.value_counts().sort_index().mean()\n",
    "plt.figure(figsize=(14, 8))\n",
    "plt.bar(DF.MES.value_counts().sort_index().index,DF.MES.value_counts().sort_index().values,label = 'VUELOS POR MES')\n",
    "plt.plot(PROMEDIO*np.ones(14),label = 'VUELOS PROMEDIO AÑO 2017 ('+str(int(PROMEDIO))+\" VUELOS)\",color = 'red')\n",
    "plt.title(\"VUELOS POR MES (MES OPERACION, AÑO 2017\")\n",
    "plt.legend()"
   ]
  },
  {
   "cell_type": "code",
   "execution_count": 7,
   "metadata": {},
   "outputs": [
    {
     "name": "stdout",
     "output_type": "stream",
     "text": [
      "Mes con mas vuelos  : 6356\n",
      "Mes con menos vuelos: 4981\n"
     ]
    }
   ],
   "source": [
    "# Mes con mas y menos Vuelos\n",
    "MAX_M = DF.MES.value_counts().sort_index().max()\n",
    "MIN_M = DF.MES.value_counts().sort_index().min()\n",
    "\n",
    "print(\"Mes con mas vuelos  : \"+str(MAX_M))\n",
    "print(\"Mes con menos vuelos: \"+str(MIN_M))"
   ]
  },
  {
   "cell_type": "code",
   "execution_count": 8,
   "metadata": {},
   "outputs": [
    {
     "data": {
      "text/plain": [
       "1     6108\n",
       "2     5561\n",
       "3     5482\n",
       "4     5020\n",
       "5     5240\n",
       "6     4981\n",
       "7     5992\n",
       "8     5744\n",
       "9     5610\n",
       "10    6032\n",
       "11    6080\n",
       "12    6356\n",
       "Name: MES, dtype: int64"
      ]
     },
     "execution_count": 8,
     "metadata": {},
     "output_type": "execute_result"
    }
   ],
   "source": [
    "# CAntidad de vuelos por mes (valor)\n",
    "DF.MES.value_counts().sort_index()"
   ]
  },
  {
   "cell_type": "code",
   "execution_count": 9,
   "metadata": {},
   "outputs": [
    {
     "name": "stderr",
     "output_type": "stream",
     "text": [
      "D:\\Program Files\\Anaconda3\\lib\\site-packages\\pandas\\plotting\\_converter.py:129: FutureWarning: Using an implicitly registered datetime converter for a matplotlib plotting method. The converter was registered by pandas on import. Future versions of pandas will require you to explicitly register matplotlib converters.\n",
      "\n",
      "To register the converters:\n",
      "\t>>> from pandas.plotting import register_matplotlib_converters\n",
      "\t>>> register_matplotlib_converters()\n",
      "  warnings.warn(msg, FutureWarning)\n"
     ]
    },
    {
     "data": {
      "text/plain": [
       "<matplotlib.legend.Legend at 0x1ef802be518>"
      ]
     },
     "execution_count": 9,
     "metadata": {},
     "output_type": "execute_result"
    },
    {
     "data": {
      "image/png": "[encoded data removed]",
      "text/plain": [
       "<Figure size 1008x576 with 1 Axes>"
      ]
     },
     "metadata": {
      "needs_background": "light"
     },
     "output_type": "display_data"
    }
   ],
   "source": [
    "# Cantidad de vuelos Diarios\n",
    "df = DF.groupby([DF['Fecha-I'].dt.date]).count()['Fecha-I']\n",
    "\n",
    "plt.figure(figsize=(14, 8))\n",
    "plt.plot(df, label = 'Vuelos Por Dia')\n",
    "plt.plot(df.index,df.mean()*np.ones(df.shape[0]),label = 'Vuelos Promedio diario ('+str(int(df.mean()))+\" VUELOS)\",color = 'red')\n",
    "plt.title('CANTIDAD DE VUELOS POR DIA (AÑO 2017)')\n",
    "plt.legend()"
   ]
  },
  {
   "cell_type": "code",
   "execution_count": 10,
   "metadata": {},
   "outputs": [
    {
     "name": "stdout",
     "output_type": "stream",
     "text": [
      "Maxima cantidad de vuelos diarios: 230\n",
      "Minima cantidad de vuelos diarios: 126\n",
      "Promedio de vuelos diarios: 186\n"
     ]
    }
   ],
   "source": [
    "# Vuelos diarios promedios. Cantidad de vuelos max y min\n",
    "print(\"Maxima cantidad de vuelos diarios: \"+str(df.max()))\n",
    "print(\"Minima cantidad de vuelos diarios: \"+str(df.min()))\n",
    "print(\"Promedio de vuelos diarios: \"+str(int(df.mean())))"
   ]
  },
  {
   "cell_type": "code",
   "execution_count": 11,
   "metadata": {},
   "outputs": [
    {
     "name": "stdout",
     "output_type": "stream",
     "text": [
      "Fecha-I\n",
      "2017-12-22    230\n",
      "Name: Fecha-I, dtype: int64\n",
      "Fecha-I\n",
      "2017-04-15    126\n",
      "Name: Fecha-I, dtype: int64\n"
     ]
    }
   ],
   "source": [
    "#Fechas con mas y menos vuelos\n",
    "print(df[df.values == 230])\n",
    "print(df[df.values == 126])"
   ]
  },
  {
   "cell_type": "code",
   "execution_count": 12,
   "metadata": {},
   "outputs": [
    {
     "data": {
      "text/plain": [
       "([0, 1, 2, 3, 4, 5, 6], <a list of 7 Text xticklabel objects>)"
      ]
     },
     "execution_count": 12,
     "metadata": {},
     "output_type": "execute_result"
    },
    {
     "data": {
      "image/png": "[encoded data removed]",
      "text/plain": [
       "<Figure size 1008x576 with 1 Axes>"
      ]
     },
     "metadata": {
      "needs_background": "light"
     },
     "output_type": "display_data"
    }
   ],
   "source": [
    "# Cantidad de vuelos por dia\n",
    "plt.figure(figsize=(14, 8))\n",
    "plt.bar(DF.DIANOM.value_counts().index,DF.DIANOM.value_counts().values)\n",
    "plt.title('CANTIDAD DE VUELOS DURANTE EL AÑO, SEGUN DIA')\n",
    "plt.xticks(rotation=90)"
   ]
  },
  {
   "cell_type": "code",
   "execution_count": 13,
   "metadata": {},
   "outputs": [
    {
     "data": {
      "text/plain": [
       "([0,\n",
       "  1,\n",
       "  2,\n",
       "  3,\n",
       "  4,\n",
       "  5,\n",
       "  6,\n",
       "  7,\n",
       "  8,\n",
       "  9,\n",
       "  10,\n",
       "  11,\n",
       "  12,\n",
       "  13,\n",
       "  14,\n",
       "  15,\n",
       "  16,\n",
       "  17,\n",
       "  18,\n",
       "  19,\n",
       "  20,\n",
       "  21,\n",
       "  22],\n",
       " <a list of 23 Text xticklabel objects>)"
      ]
     },
     "execution_count": 13,
     "metadata": {},
     "output_type": "execute_result"
    },
    {
     "data": {
      "image/png": "[encoded data removed]",
      "text/plain": [
       "<Figure size 1008x576 with 1 Axes>"
      ]
     },
     "metadata": {
      "needs_background": "light"
     },
     "output_type": "display_data"
    }
   ],
   "source": [
    "# CAntidad de vuelos por aerolinea\n",
    "plt.figure(figsize=(14, 8))\n",
    "plt.bar(DF.OPERA.value_counts().index, DF.OPERA.value_counts().values)\n",
    "plt.title('CANTIDAD DE VUELOS DURANTE EL AÑO, SEGUN AEROLINEA')\n",
    "plt.xticks(rotation=90)\n"
   ]
  },
  {
   "cell_type": "code",
   "execution_count": 14,
   "metadata": {},
   "outputs": [
    {
     "name": "stdout",
     "output_type": "stream",
     "text": [
      "Vuelos regitrados Grupo LATAM: 59 %\n",
      "Vuelos regitrados Sky Airline: 20 %\n",
      "Vuelos regitrados Otras Aerolineas: 19 %\n"
     ]
    }
   ],
   "source": [
    "REG_LATAM = DF[DF.OPERA == 'Grupo LATAM'].shape[0]/DF.shape[0] * 100\n",
    "REG_SKY = DF[DF.OPERA == 'Sky Airline'].shape[0]/DF.shape[0] * 100\n",
    "REG_OTROS = DF[(DF.OPERA != 'Sky Airline')&(DF.OPERA != 'Grupo LATAM')].shape[0]/DF.shape[0] * 100\n",
    "\n",
    "print('Vuelos regitrados Grupo LATAM: '+str(int(REG_LATAM))+ \" %\")\n",
    "print('Vuelos regitrados Sky Airline: '+str(int(REG_SKY))+ \" %\")\n",
    "print('Vuelos regitrados Otras Aerolineas: '+str(int(REG_OTROS))+ \" %\")"
   ]
  },
  {
   "cell_type": "code",
   "execution_count": 15,
   "metadata": {},
   "outputs": [],
   "source": [
    "DF_tmp = DF.copy()\n",
    "#DIFERENCIA DE TIEMPO EN MINUTOS\n",
    "DF_tmp['DIFERENCIA'] = ((DF_tmp['Fecha-O'] - DF_tmp['Fecha-I'])/np.timedelta64(60, 's'))\n",
    "\n",
    "#VUELOS CON ATRASO\n",
    "DF_tmp['ATRASADO'] = DF_tmp['DIFERENCIA'].apply(lambda x : 1 if x > 0 else 0)\n",
    "\n",
    "#TEMPORADA\n",
    "DF_tmp['temporada_alta'] = DF_tmp['Fecha-I'].apply(lambda x: 1 if  (x >= pd.to_datetime('2017-12-15')) & \n",
    "                                                           (x <= pd.to_datetime('2017-03-03')) else \n",
    "                                                    (1 if  (x >= pd.to_datetime('2017-07-15')) & \n",
    "                                                           (x <= pd.to_datetime('2017-07-31')) else \n",
    "                                                    (1 if  (x >= pd.to_datetime('2017-09-11')) & \n",
    "                                                           (x <= pd.to_datetime('2017-09-30')) else 0)))"
   ]
  },
  {
   "cell_type": "code",
   "execution_count": 16,
   "metadata": {},
   "outputs": [
    {
     "data": {
      "text/plain": [
       "1    45507\n",
       "0    22699\n",
       "Name: ATRASADO, dtype: int64"
      ]
     },
     "execution_count": 16,
     "metadata": {},
     "output_type": "execute_result"
    }
   ],
   "source": [
    "DF_tmp.ATRASADO.value_counts()"
   ]
  },
  {
   "cell_type": "code",
   "execution_count": 17,
   "metadata": {},
   "outputs": [
    {
     "name": "stdout",
     "output_type": "stream",
     "text": [
      "PORCENTAJE VUELOS CON ATRASO: 66%\n",
      "PORCENTAJE VUELOS CON ADELANTO: 26%\n",
      "PORCENTAJE VUELOS PUNTUALES: 7%\n"
     ]
    }
   ],
   "source": [
    "# porcentaje vueos atrasados, adelantados y puntuales\n",
    "print(\"PORCENTAJE VUELOS CON ATRASO: \"+str(int(DF_tmp[DF_tmp['ATRASADO'] == 1].shape[0]/DF_tmp.shape[0] * 100))+\"%\")\n",
    "print(\"PORCENTAJE VUELOS CON ADELANTO: \"+str(int(DF_tmp[DF_tmp['DIFERENCIA'] < 0].shape[0]/DF_tmp.shape[0] * 100))+\"%\")\n",
    "print(\"PORCENTAJE VUELOS PUNTUALES: \"+str(int(DF_tmp[DF_tmp['DIFERENCIA'] == 0].shape[0]/DF_tmp.shape[0] * 100))+\"%\")"
   ]
  },
  {
   "cell_type": "code",
   "execution_count": 18,
   "metadata": {},
   "outputs": [
    {
     "data": {
      "text/plain": [
       "N    36966\n",
       "I    31240\n",
       "Name: TIPOVUELO, dtype: int64"
      ]
     },
     "execution_count": 18,
     "metadata": {},
     "output_type": "execute_result"
    }
   ],
   "source": [
    "# CONTEO DE VUELOS SEGUN TIPO DE VUELO\n",
    "DF_tmp.TIPOVUELO.value_counts()"
   ]
  },
  {
   "cell_type": "code",
   "execution_count": 19,
   "metadata": {},
   "outputs": [
    {
     "data": {
      "text/plain": [
       "Buenos Aires    6335\n",
       "Antofagasta     5786\n",
       "Lima            5270\n",
       "Calama          5146\n",
       "Puerto Montt    4357\n",
       "Concepcion      3993\n",
       "Iquique         3747\n",
       "Sao Paulo       3569\n",
       "Temuco          2589\n",
       "Arica           2436\n",
       "Name: SIGLADES, dtype: int64"
      ]
     },
     "execution_count": 19,
     "metadata": {},
     "output_type": "execute_result"
    }
   ],
   "source": [
    "# TOP TEN destinos de vuelos \n",
    "DF_tmp.SIGLADES.value_counts().head(10)"
   ]
  },
  {
   "cell_type": "code",
   "execution_count": 20,
   "metadata": {},
   "outputs": [
    {
     "name": "stdout",
     "output_type": "stream",
     "text": [
      "PORCENTAJE DE VUEJOS ABARCADOS POR TOP TEN: 63%\n"
     ]
    }
   ],
   "source": [
    "TOT_TOP_TEN = DF_tmp.SIGLADES.value_counts().head(10).sum()\n",
    "PORC_TOP_TEN = TOT_TOP_TEN/DF_tmp.shape[0] * 100\n",
    "print(\"PORCENTAJE DE VUEJOS ABARCADOS POR TOP TEN: \"+str(int(PORC_TOP_TEN))+\"%\")"
   ]
  },
  {
   "cell_type": "markdown",
   "metadata": {},
   "source": [
    "#### OBSERVACIONES GENERALES:"
   ]
  },
  {
   "cell_type": "markdown",
   "metadata": {},
   "source": [
    "> - Se esta trabajando con los datos del año 2017 y solo hubo 2 vuelos que operaron con retraso pasando a ser vuelos que operaron en el año 2018.\n",
    "\n",
    "> - La cantidad promedio de vuelos programados en 2017 por mes fue de un tota de 5683. El mes de junio es el que registra menos vuelos con un total de 4981 vuelos y diciembre es el mes con mas vuelos alcanzando un total de 6356 vuelos registrados.\n",
    "\n",
    "> - La cantidad de vuelos diarios en promedio fueron 186 durante el año 2017, Registrando un maximo de 230 vuelos el dia 22 de Diciembre y 126 vuelos realizados el dia 15 de Abril.\n",
    "\n",
    "> - Un gran porcentaje de la informacion proviene de registros de aerolineas LATAM abarcando alredededor del 60% de los vuelos aproximadamente, mientras que Sky Airlines es la segunda Aerolinea con mas vuelos alcanzando casi un 20% . Por otro lado, las otras 21 aerolineas existentes componen el 20% restante aproximadamente.\n",
    "\n",
    "> - El TOP TEN de destinos abarca alrededor del 63% de los vuelos registrados siendo Buenos Aires (6335 vuelos) el destino mas frecuente. Sin embargo, 7 de los 10 destinos mas frecuentes son destinos nacionales con antofagasta (5786 vuelos) liderando el conteo de vuelos, seguido de Calama (5146 vuelos) y Puerto Montt (4357 vuelos). Otra curiosidad es que dentro del TOP TEN solo hay destinos dentro de la zona \"Sudamericana\"."
   ]
  },
  {
   "cell_type": "markdown",
   "metadata": {},
   "source": [
    "### CREACION FEATURES ADICIONALES (PREGUNTA 2)"
   ]
  },
  {
   "cell_type": "code",
   "execution_count": null,
   "metadata": {},
   "outputs": [],
   "source": [
    "%%time\n",
    "#ADICION DE FILAS SEGUN DESAFIO\n",
    "\n",
    "#temporada alta segun fechas del año\n",
    "DF['temporada_alta'] = DF['Fecha-I'].apply(lambda x: 1 if  (x >= pd.to_datetime('2017-12-15')) & \n",
    "                                                           (x <= pd.to_datetime('2017-03-03')) else \n",
    "                                                    (1 if  (x >= pd.to_datetime('2017-07-15')) & \n",
    "                                                           (x <= pd.to_datetime('2017-07-31')) else \n",
    "                                                    (1 if  (x >= pd.to_datetime('2017-09-11')) & \n",
    "                                                           (x <= pd.to_datetime('2017-09-30')) else 0)))\n",
    "\n",
    "#Diferencia de tiempo entre Fecha-I y Fecha-O\n",
    "DF['dif_min'] = ((DF['Fecha-O'] - DF['Fecha-I'])/np.timedelta64(60, 's'))\n",
    "\n",
    "#Atraso de mas de 15 minutos\n",
    "DF['atraso_15'] = DF['dif_min'].apply(lambda x : 1 if x > 15 else 0)\n",
    "\n",
    "#Periodo dia segun Hora de vuelo Fecha-I\n",
    "DF['periodo_dia'] = DF['Fecha-I'].dt.hour.apply(lambda x : 'mañana' if ((x >= 5) & (x < 12)) else \n",
    "                                                          ('tarde'  if ((x >=12) & (x < 19)) else 'noche'))"
   ]
  },
  {
   "cell_type": "code",
   "execution_count": null,
   "metadata": {},
   "outputs": [],
   "source": [
    "##GUARDADO DE FEATURES\n",
    "##NOTA: SE GUARDARAN ESTOS FEATURES EN 2 VERSIONES: \n",
    "##   > \"features_synthetic.csv\" (SOLO LAS COLUMNAS ADICIONALES) \n",
    "##   > \"SCL_features_synthetic.csv\" (DATASET ANTIGUO MAS COLUMNAS ADICIONALES) \n",
    "\n",
    "DF[['temporada_alta','dif_min','atraso_15','periodo_dia']].to_csv('features_synthetic.csv',index = False)\n",
    "DF.to_csv('SCL_features_synthetic.csv',index = False)"
   ]
  },
  {
   "cell_type": "markdown",
   "metadata": {},
   "source": [
    "### COMPOSICION DE TASAS DE ATRASO (PREGUNTA 3)"
   ]
  },
  {
   "cell_type": "code",
   "execution_count": null,
   "metadata": {},
   "outputs": [],
   "source": [
    "#¿Cómo se compone la tasa de atraso por destino, aerolínea, \n",
    "#mes del año, día de la semana, temporada, tipo de vuelo?\n",
    "#¿Qué variables esperarías que más influyeran en predecir atrasos?"
   ]
  },
  {
   "cell_type": "markdown",
   "metadata": {},
   "source": [
    "#### ATRASO POR DESTINO"
   ]
  },
  {
   "cell_type": "code",
   "execution_count": null,
   "metadata": {},
   "outputs": [],
   "source": [
    "# NOTA: En base al analisis anterior solo se utilizara el TOP TEN de destinos ya que hay mayor \n",
    "# cantidad de vuelos comprendidas en estos destinos por lo que este conjunto posee una mayor importancia\n",
    "\n",
    "DESTINOS_TOP = DF_tmp.SIGLADES.value_counts().head(10).index\n",
    "TASAS_DEST = []\n",
    "\n",
    "for i in DESTINOS_TOP:\n",
    "    ATRASO_TMP_DEST = DF_tmp[(DF_tmp.SIGLADES == i)&(DF_tmp.ATRASADO == 1)].shape[0]\n",
    "    TOTAL_TMP_DEST = DF_tmp[(DF_tmp.SIGLADES == i)].shape[0]\n",
    "    TASA_TMP_DEST = ATRASO_TMP_DEST/TOTAL_TMP_DEST\n",
    "    TASAS_DEST.append(TASA_TMP_DEST)\n",
    "\n",
    "print(\"Tasa Atraso Promedio Por Destino: \"+str(np.mean(TASAS_DEST)))\n",
    "plt.figure(figsize=(14, 8))\n",
    "plt.bar(DESTINOS_TOP,TASAS_DEST,label='Tasa Atraso')\n",
    "plt.title('Tasas de Atraso segun TOP TEN destinos')\n",
    "plt.legend()"
   ]
  },
  {
   "cell_type": "markdown",
   "metadata": {},
   "source": [
    "#### ATRASO POR AEROLINEA"
   ]
  },
  {
   "cell_type": "code",
   "execution_count": null,
   "metadata": {},
   "outputs": [],
   "source": [
    "# NOTA: Solo se individualizara a \"Grupo LATAM\" y \"Sky Airlines\" debido a que son las aerolineas con mas vuelos. \n",
    "# El resto de aerolineas se agrupara bajo la categoria de \"OTROS\"\n",
    "\n",
    "ATRASO_LATAM = DF_tmp[(DF_tmp.OPERA == 'Grupo LATAM')&(DF_tmp.ATRASADO == 1)].shape[0]\n",
    "VUELOS_LATAM = DF_tmp[(DF_tmp.OPERA == 'Grupo LATAM')].shape[0]\n",
    "TASA_LATAM = ATRASO_LATAM/VUELOS_LATAM \n",
    "\n",
    "ATRASO_SKY = DF_tmp[(DF_tmp.OPERA == 'Sky Airline')&(DF_tmp.ATRASADO == 1)].shape[0]\n",
    "VUELOS_SKY = DF_tmp[(DF_tmp.OPERA == 'Sky Airline')].shape[0]\n",
    "TASA_SKY = ATRASO_SKY/VUELOS_SKY\n",
    "\n",
    "ATRASO_OTROS = DF_tmp[(DF_tmp.OPERA != 'Sky Airline')&(DF.OPERA != 'Grupo LATAM')&(DF_tmp.ATRASADO == 1)].shape[0]\n",
    "VUELOS_OTROS = DF_tmp[(DF.OPERA != 'Sky Airline')&(DF.OPERA != 'Grupo LATAM')].shape[0]\n",
    "TASA_OTROS = ATRASO_OTROS/VUELOS_OTROS \n",
    "\n",
    "print(\"Tasa de atraso Grupo LATAM  : \" + str(int(TASA_LATAM*100))+\"%\")\n",
    "print(\"Tasa de atraso Sky Airlines : \" + str(int(TASA_SKY*100))+\"%\")\n",
    "print(\"Tasa de atraso OTROS        : \" + str(int(TASA_OTROS*100))+\"%\")\n",
    "print(\"Tasa de atraso Promedio     : \" + str(np.mean([TASA_LATAM,TASA_SKY,TASA_OTROS]))+\"%\")\n",
    "\n",
    "plt.figure(figsize=(14, 8))\n",
    "plt.bar(['Grupo LATAM','Sky Airlines','OTROS'], [TASA_LATAM,TASA_SKY,TASA_OTROS])\n",
    "plt.title(\"Tasa de atraso Por Aerolinea\")"
   ]
  },
  {
   "cell_type": "markdown",
   "metadata": {},
   "source": [
    "#### ATRASO POR MES EL AÑO"
   ]
  },
  {
   "cell_type": "code",
   "execution_count": null,
   "metadata": {},
   "outputs": [],
   "source": [
    "#DF_tmp[DF_tmp.MES == 1]\n",
    "MES = ['Ene','Feb','Mar','Abr','May','Jun','Jul','Ago','Sept','Oct','Nov','Dic']\n",
    "TASA_MES = []\n",
    "\n",
    "for i in range(1,13):\n",
    "    ATRASO_TMP_MES = DF_tmp[(DF_tmp.MES == i) & (DF_tmp.ATRASADO == 1)].shape[0]\n",
    "    TOTAL_TMP_MES = DF_tmp[(DF_tmp.MES == i)].shape[0]\n",
    "    TASA_TMP_DEST = ATRASO_TMP_MES/TOTAL_TMP_MES\n",
    "    \n",
    "    TASA_MES.append(TASA_TMP_DEST)\n",
    "\n",
    "print(\"Tasa Atraso Promedio Por Mes: \"+str(np.mean(TASA_MES)))\n",
    "plt.figure(figsize=(14, 8))\n",
    "plt.bar(MES,TASA_MES,label='Tasa Atraso')\n",
    "plt.title('Tasas de Atraso Por Mes')\n",
    "plt.legend()\n",
    "    "
   ]
  },
  {
   "cell_type": "markdown",
   "metadata": {},
   "source": [
    "#### ATRASO POR DIA DE LA SEMANA"
   ]
  },
  {
   "cell_type": "code",
   "execution_count": null,
   "metadata": {},
   "outputs": [],
   "source": [
    "DIAS = DF_tmp.DIANOM.unique()\n",
    "\n",
    "TASA_DIAS = []\n",
    "\n",
    "for i in DIAS:\n",
    "    ATRASO_TMP_DIAS = DF_tmp[(DF_tmp.DIANOM == i) & (DF_tmp.ATRASADO == 1)].shape[0]\n",
    "    TOTAL_TMP_DIAS = DF_tmp[(DF_tmp.DIANOM == i)].shape[0]\n",
    "    TASA_TMP_DIAS = ATRASO_TMP_DIAS/TOTAL_TMP_DIAS\n",
    "    \n",
    "    TASA_DIAS.append(TASA_TMP_DIAS)\n",
    "\n",
    "print(\"Tasa Atraso Promedio Por Dia: \"+str(np.mean(TASA_DIAS)))\n",
    "plt.figure(figsize=(14, 8))\n",
    "plt.bar(DIAS,TASA_DIAS,label='Tasa Atraso')\n",
    "plt.title('Tasas de Atraso Por Dia')\n",
    "plt.legend()"
   ]
  },
  {
   "cell_type": "markdown",
   "metadata": {},
   "source": [
    "#### ATRASO POR TEMPORADA"
   ]
  },
  {
   "cell_type": "code",
   "execution_count": null,
   "metadata": {},
   "outputs": [],
   "source": [
    "TEMPORADA = ['ALTA','BAJA']\n",
    "\n",
    "TASA_TEMPORADA = []\n",
    "\n",
    "ATRASO_TMP_ALTA = DF_tmp[(DF_tmp.temporada_alta == 1) & (DF_tmp.ATRASADO == 1)].shape[0]\n",
    "TOTAL_TMP_ALTA = DF_tmp[(DF_tmp.temporada_alta == 1)].shape[0]\n",
    "TASA_TMP_ALTA = ATRASO_TMP_ALTA/TOTAL_TMP_ALTA\n",
    "\n",
    "ATRASO_TMP_BAJA = DF_tmp[(DF_tmp.temporada_alta == 0) & (DF_tmp.ATRASADO == 1)].shape[0]\n",
    "TOTAL_TMP_BAJA = DF_tmp[(DF_tmp.temporada_alta == 0)].shape[0]\n",
    "TASA_TMP_BAJA = ATRASO_TMP_BAJA/TOTAL_TMP_BAJA\n",
    "    \n",
    "\n",
    "print(\"Tasa Atraso Temporada Alta: \"+str(TASA_TMP_ALTA))\n",
    "print(\"Tasa Atraso Temporada Baja: \"+str(TASA_TMP_BAJA))\n",
    "plt.figure(figsize=(12, 8))\n",
    "plt.bar(TEMPORADA,[TASA_TMP_ALTA,TASA_TMP_BAJA],label='Tasa Atraso')\n",
    "plt.title('Tasas de Atraso Segun Temporada')\n",
    "plt.legend()"
   ]
  },
  {
   "cell_type": "markdown",
   "metadata": {},
   "source": [
    "#### ATRASO POR TIPO DE VUELO"
   ]
  },
  {
   "cell_type": "code",
   "execution_count": null,
   "metadata": {},
   "outputs": [],
   "source": [
    "TEMPORADA = ['INTERNACIONAL','NACIONAL']\n",
    "\n",
    "TASA_TEMPORADA = []\n",
    "\n",
    "ATRASO_TMP_INT = DF_tmp[(DF_tmp.TIPOVUELO == 'I') & (DF_tmp.ATRASADO == 1)].shape[0]\n",
    "TOTAL_TMP_INT = DF_tmp[(DF_tmp.TIPOVUELO == 'I')].shape[0]\n",
    "TASA_TMP_INT = ATRASO_TMP_INT/TOTAL_TMP_INT\n",
    "\n",
    "ATRASO_TMP_NAC = DF_tmp[(DF_tmp.TIPOVUELO == 'N') & (DF_tmp.ATRASADO == 1)].shape[0]\n",
    "TOTAL_TMP_NAC = DF_tmp[(DF_tmp.TIPOVUELO == 'N')].shape[0]\n",
    "TASA_TMP_NAC = ATRASO_TMP_NAC/TOTAL_TMP_NAC\n",
    "    \n",
    "\n",
    "print(\"Tasa Atraso Temporada Alta: \"+str(TASA_TMP_INT))\n",
    "print(\"Tasa Atraso Temporada Baja: \"+str(TASA_TMP_NAC))\n",
    "plt.figure(figsize=(12, 8))\n",
    "plt.bar(TEMPORADA,[TASA_TMP_INT,TASA_TMP_NAC],label='Tasa Atraso')\n",
    "plt.title('Tasas de Atraso Segun Tipo de Vuelo')\n",
    "plt.legend()"
   ]
  },
  {
   "cell_type": "markdown",
   "metadata": {},
   "source": [
    "#### ¿QUÉ VARIABLES SE ESPERA QUE SEAN MAS INFLUYENTES PARA PREDECIR ATRASOS?"
   ]
  },
  {
   "cell_type": "markdown",
   "metadata": {},
   "source": [
    "> - Las caracteristicas que son solicitadas para medir las distintas tasas de atraso son bastante cercanas entre si ya que la gran mayoria se encuentra en valores de alrededor del 60-70 %. En cierta forma estas variables indican que son las necesarias para predecir atrasos. Sin embargo, algunos datos adicionales que podrian ser relevante son datos alusivos a las caracteristicas de los aviones ya que con esto se puede calcular probabilidad de fallas y que puede influir en que un vuelo se retrase. Esta caracteristica esta mas relacionada con el aspecto \"tecnico\" de los aviones asignados a los vuelos y no esta tan orientado a la \"temporalidad\" de un vuelo y talvez seria interesante desarrollar un modelo con estos datos (si es que estan disponibles por supuesto) y poder contestar preguntas como \"¿Que tan probable es que falle un avion en una determinada estacion del año (y por consecuencia exista un retraso por \"dificultades tecnicas\")?\".\n",
    "\n",
    "> - Otro detalle impotante a explorar de estas 6 caracteristicas es la combinacion de estas y evaluar las tasas en un nivel combinado como por ejemplo: \"tasa por dia de Diciembre para los vuelos internacionales\". ya que al combinar se puede tener una hiperpersonalizacion mas interesante desde el punto de vista del analisis y asi entender el problema en todo su espectro.\n",
    "\n",
    ">> - En este caso particular no existe una diferencia muy \"notable\" en las tasas de atraso segun tipo de vuelo y temporada a nivel global de los datos, pero si existen diferencias relevantes segun la aerolinea, el mes del año y los destinos por lo que seria relevante hacer un analisis mas personalizado bajo esa premisa."
   ]
  },
  {
   "cell_type": "markdown",
   "metadata": {},
   "source": [
    "### PROPUESTA DE MODELO DE PREDICCION DE ATRASOS Y METRICAS DE DESEMPEÑO (PREGUNTAS 4 y 5)"
   ]
  },
  {
   "cell_type": "markdown",
   "metadata": {},
   "source": [
    "> - CONSIDERACION: se va a considerar un vuelo \"ATRASADO\" segun la variable calculada que se solicita en el desafio, es decir que un vuelo atrasado se considera como un vuelo con atraso de 15 o mas minutos. Notar que en el analisis previo de las tasas de retraso, se considero los vuelos con mas de 0 minutos de atraso (sin holgura de minutos para considerar un retraso en el vuelo). Ora consideracion a tomar es que se va a categoriazr las aerolineas como LATAM, SKY y OTROS para efectos de simplificar el problema.\n",
    "\n",
    "> - Se proponen 4 modelos de clasificacion para predecir la probabilidad de que un vuelo sufra retraso:\n",
    "\n",
    ">> - SIGLADES\n",
    ">> - TIPOVUELO\n",
    ">> - DIANOM\n",
    ">> - MES\n",
    ">> - OPERA\n",
    ">> - temporada_alta\n",
    ">> - atraso_15\n",
    ">> - periodo_dia\n",
    "\n",
    "> - En algunos casos estos features se transformaran en otro tipo de datos basado en los analisis previos realizados en los puntos 1 y 3.\n",
    "\n",
    "> - Los features que se consideraron relevantes para utilizar en los modelos son:\n",
    ">> - Decision Tree\n",
    ">> - Random Forest\n",
    ">> - Gradient Boosting\n",
    ">> - Xtreme Gradient Boosting\n"
   ]
  },
  {
   "cell_type": "code",
   "execution_count": null,
   "metadata": {},
   "outputs": [],
   "source": [
    "from sklearn.model_selection import train_test_split\n",
    "from sklearn.preprocessing import StandardScaler\n",
    "from sklearn.preprocessing import MinMaxScaler\n",
    "from sklearn.preprocessing import OneHotEncoder\n",
    "from sklearn.metrics import accuracy_score\n",
    "from sklearn.metrics import confusion_matrix\n",
    "from sklearn.metrics import roc_curve\n",
    "from sklearn.metrics import roc_auc_score\n",
    "from sklearn.metrics import precision_score, recall_score, f1_score, classification_report\n",
    "from sklearn.tree import DecisionTreeClassifier\n",
    "from sklearn.ensemble import RandomForestClassifier\n",
    "from sklearn.ensemble import GradientBoostingClassifier\n",
    "import xgboost\n",
    "from xgboost import XGBClassifier"
   ]
  },
  {
   "cell_type": "code",
   "execution_count": null,
   "metadata": {},
   "outputs": [],
   "source": [
    "FEATURES = DF[['SIGLADES','TIPOVUELO','DIANOM','MES','OPERA','temporada_alta',\n",
    "               'atraso_15','periodo_dia']]\n",
    "\n",
    "FEATURES['AEROLINEA'] = FEATURES['OPERA'].apply(lambda x : 'LATAM' if (x == 'Grupo LATAM') else \n",
    "                                                          ('SKY'  if (x== 'Sky Airlines') else 'OTRO'))\n",
    "\n",
    "FEATURES['DESTINO_TOP'] = FEATURES['SIGLADES'].apply(lambda x : 'OTRO' if (x not in DESTINOS_TOP) else x)\n",
    "\n",
    "\n",
    "FEATURES = FEATURES.drop(columns=['OPERA','SIGLADES'])"
   ]
  },
  {
   "cell_type": "code",
   "execution_count": null,
   "metadata": {},
   "outputs": [],
   "source": [
    "# CODIFICAR COMO ONEHOT\n",
    "categoricas = ['DESTINO_TOP','TIPOVUELO', 'DIANOM','MES', 'AEROLINEA', 'temporada_alta', 'periodo_dia']\n",
    "new_df = pd.get_dummies(FEATURES, columns=categoricas)\n",
    "\n",
    "#DATASET DE ENTRENAMIENTO Y TESTEO\n",
    "train,test = train_test_split(new_df, test_size=0.2, random_state=321)\n",
    "#train,test = train_test_split(FEATURES, test_size=0.2, random_state=321)"
   ]
  },
  {
   "cell_type": "code",
   "execution_count": null,
   "metadata": {},
   "outputs": [],
   "source": [
    "#DISTRIBUCION DE VUELOS ATRASADOS EN AMBOS DATASETS\n",
    "print(\"TRAIN\")\n",
    "print(train.atraso_15.value_counts())\n",
    "print(train.shape)\n",
    "print(\"TEST\")\n",
    "print(test.atraso_15.value_counts())\n",
    "print(test.shape)"
   ]
  },
  {
   "cell_type": "code",
   "execution_count": null,
   "metadata": {},
   "outputs": [],
   "source": [
    "# SEPARAR CARACTERISTICAS DE VARIABLE INTERES A PREDECIR\n",
    "\n",
    "X_train = train.drop(columns=['atraso_15'])\n",
    "Y_train = train['atraso_15']\n",
    "\n",
    "X_test = test.drop(columns=['atraso_15'])\n",
    "Y_test = test['atraso_15']\n",
    "\n",
    "print(X_train.shape)\n",
    "print(Y_train.shape)\n",
    "print(X_test.shape)\n",
    "print(Y_test.shape)"
   ]
  },
  {
   "cell_type": "markdown",
   "metadata": {},
   "source": [
    "### MODELOS PROPUESTOS + METRICAS DE DESEMPEÑO"
   ]
  },
  {
   "cell_type": "markdown",
   "metadata": {},
   "source": [
    "### DECISION TREE"
   ]
  },
  {
   "cell_type": "code",
   "execution_count": null,
   "metadata": {},
   "outputs": [],
   "source": [
    "%%time\n",
    "tree_clf = DecisionTreeClassifier(random_state=42)\n",
    "tree_clf.fit(X_train,Y_train)\n",
    "\n",
    "Y_pred_tr = tree_clf.predict(X_test)"
   ]
  },
  {
   "cell_type": "code",
   "execution_count": null,
   "metadata": {},
   "outputs": [],
   "source": [
    "print(\"ACCURACY : \"+str(accuracy_score(Y_test,Y_pred_tr)))\n",
    "print(\"PRECISION : \"+str(precision_score(Y_test,Y_pred_tr)))\n",
    "print(\"RECALL : \"+str(recall_score(Y_test,Y_pred_tr)))\n",
    "print(\"F1-SCORE : \"+str(f1_score(Y_test,Y_pred_tr)))"
   ]
  },
  {
   "cell_type": "markdown",
   "metadata": {},
   "source": [
    "### RANDOM FOREST"
   ]
  },
  {
   "cell_type": "code",
   "execution_count": null,
   "metadata": {},
   "outputs": [],
   "source": [
    "%%time\n",
    "forest_clf = RandomForestClassifier(random_state=42,n_estimators=100,bootstrap=True)\n",
    "forest_clf.fit(X_train,Y_train)\n",
    "\n",
    "Y_pred_rf = forest_clf.predict(X_test)"
   ]
  },
  {
   "cell_type": "code",
   "execution_count": null,
   "metadata": {},
   "outputs": [],
   "source": [
    "print(\"ACCURACY : \"+str(accuracy_score(Y_test,Y_pred_rf)))\n",
    "print(\"PRECISION : \"+str(precision_score(Y_test,Y_pred_rf)))\n",
    "print(\"RECALL : \"+str(recall_score(Y_test,Y_pred_rf)))\n",
    "print(\"F1-SCORE : \"+str(f1_score(Y_test,Y_pred_rf)))"
   ]
  },
  {
   "cell_type": "markdown",
   "metadata": {},
   "source": [
    "### GRADIENT BOOSTING"
   ]
  },
  {
   "cell_type": "code",
   "execution_count": null,
   "metadata": {},
   "outputs": [],
   "source": [
    "%%time\n",
    "model_gb = GradientBoostingClassifier(n_estimators=100, random_state=0)\n",
    "model_gb.fit(X_train, Y_train)\n",
    "\n",
    "Y_pred_gb = model_gb.predict(X_test)"
   ]
  },
  {
   "cell_type": "code",
   "execution_count": null,
   "metadata": {},
   "outputs": [],
   "source": [
    "print(\"ACCURACY : \"+str(accuracy_score(Y_test,Y_pred_gb)))\n",
    "print(\"PRECISION : \"+str(precision_score(Y_test,Y_pred_gb)))\n",
    "print(\"RECALL : \"+str(recall_score(Y_test,Y_pred_gb)))\n",
    "print(\"F1-SCORE : \"+str(f1_score(Y_test,Y_pred_gb)))"
   ]
  },
  {
   "cell_type": "markdown",
   "metadata": {},
   "source": [
    "### XTREME GRADIENT BOOSTING"
   ]
  },
  {
   "cell_type": "code",
   "execution_count": null,
   "metadata": {},
   "outputs": [],
   "source": [
    "%%time\n",
    "\n",
    "model_xgb = XGBClassifier()\n",
    "model_xgb.fit(X_train, Y_train, verbose=False)\n",
    "\n",
    "Y_pred_xgb = model_xgb.predict(X_test)"
   ]
  },
  {
   "cell_type": "code",
   "execution_count": null,
   "metadata": {},
   "outputs": [],
   "source": [
    "print(\"ACCURACY : \"+str(accuracy_score(Y_test,Y_pred_xgb)))\n",
    "print(\"PRECISION : \"+str(precision_score(Y_test,Y_pred_xgb)))\n",
    "print(\"RECALL : \"+str(recall_score(Y_test,Y_pred_xgb)))\n",
    "print(\"F1-SCORE : \"+str(f1_score(Y_test,Y_pred_xgb)))"
   ]
  },
  {
   "cell_type": "markdown",
   "metadata": {},
   "source": [
    "### DECISION FINAL (PREGUNTA 5)"
   ]
  },
  {
   "cell_type": "markdown",
   "metadata": {},
   "source": [
    "> - En base a los 4 modelos propuestos se tiene un accuracy similar pero el modelo Xtreme Gradient Boosting es el que entrega el mejor accuracy por un margen muy pequeño. Sin embargo, cuando se habla de problemas de clasificacion no es suficiente escoger el accuracy como criterio de mejor modelo y se debe realizar un balance en funcion de la precision, recall y F1-score. Si se usa el F1 Score como criterio para escoger el mejor modelo, el ganador seria Random Forest ya que es un modelo en que la precision y el recall se encuentran mejor balanceados pero no siempre se busca esto ya que depende del contexto en donde se planea utilizar el modelo. Bajo esta perspectiva si se asume que las predicciones de retraso en vuelos deben ser de \"calidad\", es decir que el modelo realmente prediga un atraso, la mejor opcion seria escoger el modelo de Gradient Boosting debido a que tiene la mejor precision. Por otro lado, si no se requiere tal precision y se privilegia el recall, la mejor opcion seria Random Forest pero a modo de opinion personal, siento que es mas importante que exista una alta precision en la prediccion y escogeria el modelo Gradient Boosting ya que este modelo se va a equivocar mucho menos en las predicciones en comparacion a los otros modelos. Ademas creo que es importante \"equivocarse\" lo menor posible ya que fallar esta prediccion puede determinar el como planificar correctamenete los vuelos, las mantenciones de aviones y por lo tanto una correcta administracion de los recursos dentro de la empresa.\n",
    "\n",
    "> - Respecto a como mejorar el desempeño del modelo o como tener mejores predicciones es agregando algun feature relevante que no se encuentre en este dataset por ejemplo. Otra opcion es el uso de modelos mas avanzados como las redes neuronales pero la desventaja de esto es que se deben tener mucho datos para poder entrenar bien una red. Finalmente otra opcion relaciaonada al uso de modelos es trabajar con una serie de tiempo pero en base a la demanda de vuelos historica para poder planificar de mejor forma un stock suficiente de aviones para poder suplir de forma correcta la demanda e incluso tener un stock de aviones de reemplazo cuando eexistan potenciales retrasos debido a fallas tecnicas de aviones. Tal vez existan muchas acciones que se puedan tomar para mejorar los modelos propuestos o incluso crear mejores modelos propuestos pero esto en gran parte dependerá de la data disponible y analisis mucho mas extensos e incisivos de la informacion disponible.\n"
   ]
  },
  {
   "cell_type": "code",
   "execution_count": null,
   "metadata": {},
   "outputs": [],
   "source": []
  }
 ],
 "metadata": {
  "kernelspec": {
   "display_name": "Python 3",
   "language": "python",
   "name": "python3"
  },
  "language_info": {
   "codemirror_mode": {
    "name": "ipython",
    "version": 3
   },
   "file_extension": ".py",
   "mimetype": "text/x-python",
   "name": "python",
   "nbconvert_exporter": "python",
   "pygments_lexer": "ipython3",
   "version": "3.7.3"
  }
 },
 "nbformat": 4,
 "nbformat_minor": 2
}
